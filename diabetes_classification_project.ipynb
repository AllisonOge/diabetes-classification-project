{
  "nbformat": 4,
  "nbformat_minor": 0,
  "metadata": {
    "colab": {
      "provenance": [],
      "collapsed_sections": [],
      "authorship_tag": "ABX9TyNM0kxQK/CqmBfAQZUESCI6",
      "include_colab_link": true
    },
    "kernelspec": {
      "name": "python3",
      "display_name": "Python 3"
    },
    "language_info": {
      "name": "python"
    },
    "widgets": {
      "application/vnd.jupyter.widget-state+json": {
        "4126e5c9514c4588bed1d5675783b69b": {
          "model_module": "@jupyter-widgets/controls",
          "model_name": "VBoxModel",
          "model_module_version": "1.5.0",
          "state": {
            "_dom_classes": [],
            "_model_module": "@jupyter-widgets/controls",
            "_model_module_version": "1.5.0",
            "_model_name": "VBoxModel",
            "_view_count": null,
            "_view_module": "@jupyter-widgets/controls",
            "_view_module_version": "1.5.0",
            "_view_name": "VBoxView",
            "box_style": "",
            "children": [
              "IPY_MODEL_0e9fbc68a1834571b2f9ff1ff91b7d23",
              "IPY_MODEL_413c97d07ec24a68938d8c27486dd505"
            ],
            "layout": "IPY_MODEL_f79177baab9c457a94b3e99dcded1605"
          }
        },
        "0e9fbc68a1834571b2f9ff1ff91b7d23": {
          "model_module": "@jupyter-widgets/controls",
          "model_name": "LabelModel",
          "model_module_version": "1.5.0",
          "state": {
            "_dom_classes": [],
            "_model_module": "@jupyter-widgets/controls",
            "_model_module_version": "1.5.0",
            "_model_name": "LabelModel",
            "_view_count": null,
            "_view_module": "@jupyter-widgets/controls",
            "_view_module_version": "1.5.0",
            "_view_name": "LabelView",
            "description": "",
            "description_tooltip": null,
            "layout": "IPY_MODEL_696561c292874e2db237b525f34e01d2",
            "placeholder": "​",
            "style": "IPY_MODEL_413e7644bf1843c6a8637afb07320cfb",
            "value": "0.015 MB of 0.015 MB uploaded (0.000 MB deduped)\r"
          }
        },
        "413c97d07ec24a68938d8c27486dd505": {
          "model_module": "@jupyter-widgets/controls",
          "model_name": "FloatProgressModel",
          "model_module_version": "1.5.0",
          "state": {
            "_dom_classes": [],
            "_model_module": "@jupyter-widgets/controls",
            "_model_module_version": "1.5.0",
            "_model_name": "FloatProgressModel",
            "_view_count": null,
            "_view_module": "@jupyter-widgets/controls",
            "_view_module_version": "1.5.0",
            "_view_name": "ProgressView",
            "bar_style": "",
            "description": "",
            "description_tooltip": null,
            "layout": "IPY_MODEL_43d30097713d445c964fd99c5700614c",
            "max": 1,
            "min": 0,
            "orientation": "horizontal",
            "style": "IPY_MODEL_fe88a81935e54562af9b11379f4b4994",
            "value": 1
          }
        },
        "f79177baab9c457a94b3e99dcded1605": {
          "model_module": "@jupyter-widgets/base",
          "model_name": "LayoutModel",
          "model_module_version": "1.2.0",
          "state": {
            "_model_module": "@jupyter-widgets/base",
            "_model_module_version": "1.2.0",
            "_model_name": "LayoutModel",
            "_view_count": null,
            "_view_module": "@jupyter-widgets/base",
            "_view_module_version": "1.2.0",
            "_view_name": "LayoutView",
            "align_content": null,
            "align_items": null,
            "align_self": null,
            "border": null,
            "bottom": null,
            "display": null,
            "flex": null,
            "flex_flow": null,
            "grid_area": null,
            "grid_auto_columns": null,
            "grid_auto_flow": null,
            "grid_auto_rows": null,
            "grid_column": null,
            "grid_gap": null,
            "grid_row": null,
            "grid_template_areas": null,
            "grid_template_columns": null,
            "grid_template_rows": null,
            "height": null,
            "justify_content": null,
            "justify_items": null,
            "left": null,
            "margin": null,
            "max_height": null,
            "max_width": null,
            "min_height": null,
            "min_width": null,
            "object_fit": null,
            "object_position": null,
            "order": null,
            "overflow": null,
            "overflow_x": null,
            "overflow_y": null,
            "padding": null,
            "right": null,
            "top": null,
            "visibility": null,
            "width": null
          }
        },
        "696561c292874e2db237b525f34e01d2": {
          "model_module": "@jupyter-widgets/base",
          "model_name": "LayoutModel",
          "model_module_version": "1.2.0",
          "state": {
            "_model_module": "@jupyter-widgets/base",
            "_model_module_version": "1.2.0",
            "_model_name": "LayoutModel",
            "_view_count": null,
            "_view_module": "@jupyter-widgets/base",
            "_view_module_version": "1.2.0",
            "_view_name": "LayoutView",
            "align_content": null,
            "align_items": null,
            "align_self": null,
            "border": null,
            "bottom": null,
            "display": null,
            "flex": null,
            "flex_flow": null,
            "grid_area": null,
            "grid_auto_columns": null,
            "grid_auto_flow": null,
            "grid_auto_rows": null,
            "grid_column": null,
            "grid_gap": null,
            "grid_row": null,
            "grid_template_areas": null,
            "grid_template_columns": null,
            "grid_template_rows": null,
            "height": null,
            "justify_content": null,
            "justify_items": null,
            "left": null,
            "margin": null,
            "max_height": null,
            "max_width": null,
            "min_height": null,
            "min_width": null,
            "object_fit": null,
            "object_position": null,
            "order": null,
            "overflow": null,
            "overflow_x": null,
            "overflow_y": null,
            "padding": null,
            "right": null,
            "top": null,
            "visibility": null,
            "width": null
          }
        },
        "413e7644bf1843c6a8637afb07320cfb": {
          "model_module": "@jupyter-widgets/controls",
          "model_name": "DescriptionStyleModel",
          "model_module_version": "1.5.0",
          "state": {
            "_model_module": "@jupyter-widgets/controls",
            "_model_module_version": "1.5.0",
            "_model_name": "DescriptionStyleModel",
            "_view_count": null,
            "_view_module": "@jupyter-widgets/base",
            "_view_module_version": "1.2.0",
            "_view_name": "StyleView",
            "description_width": ""
          }
        },
        "43d30097713d445c964fd99c5700614c": {
          "model_module": "@jupyter-widgets/base",
          "model_name": "LayoutModel",
          "model_module_version": "1.2.0",
          "state": {
            "_model_module": "@jupyter-widgets/base",
            "_model_module_version": "1.2.0",
            "_model_name": "LayoutModel",
            "_view_count": null,
            "_view_module": "@jupyter-widgets/base",
            "_view_module_version": "1.2.0",
            "_view_name": "LayoutView",
            "align_content": null,
            "align_items": null,
            "align_self": null,
            "border": null,
            "bottom": null,
            "display": null,
            "flex": null,
            "flex_flow": null,
            "grid_area": null,
            "grid_auto_columns": null,
            "grid_auto_flow": null,
            "grid_auto_rows": null,
            "grid_column": null,
            "grid_gap": null,
            "grid_row": null,
            "grid_template_areas": null,
            "grid_template_columns": null,
            "grid_template_rows": null,
            "height": null,
            "justify_content": null,
            "justify_items": null,
            "left": null,
            "margin": null,
            "max_height": null,
            "max_width": null,
            "min_height": null,
            "min_width": null,
            "object_fit": null,
            "object_position": null,
            "order": null,
            "overflow": null,
            "overflow_x": null,
            "overflow_y": null,
            "padding": null,
            "right": null,
            "top": null,
            "visibility": null,
            "width": null
          }
        },
        "fe88a81935e54562af9b11379f4b4994": {
          "model_module": "@jupyter-widgets/controls",
          "model_name": "ProgressStyleModel",
          "model_module_version": "1.5.0",
          "state": {
            "_model_module": "@jupyter-widgets/controls",
            "_model_module_version": "1.5.0",
            "_model_name": "ProgressStyleModel",
            "_view_count": null,
            "_view_module": "@jupyter-widgets/base",
            "_view_module_version": "1.2.0",
            "_view_name": "StyleView",
            "bar_color": null,
            "description_width": ""
          }
        }
      }
    }
  },
  "cells": [
    {
      "cell_type": "markdown",
      "metadata": {
        "id": "view-in-github",
        "colab_type": "text"
      },
      "source": [
        "<a href=\"https://colab.research.google.com/github/AllisonOge/diabetes-classification-project/blob/main/diabetes_classification_project.ipynb\" target=\"_parent\"><img src=\"https://colab.research.google.com/assets/colab-badge.svg\" alt=\"Open In Colab\"/></a>"
      ]
    },
    {
      "cell_type": "markdown",
      "source": [
        "# 🔥 🔥 Diabetes Classsification Machine Learning Task 🔥 🔥\n",
        "\n",
        "We explore a nuanced version of the dataset from the [National institute of Diabetes and Digestive and Kidney Diseases](https://repository.niddk.nih.gov/search/study/). Several constraints were placed on the selection of this version from a larger database. In particular, all patients here are females at least 21 years old of Pima Indian heritage. The dataset can be accessed through this [Kaggle link](https://www.kaggle.com/datasets/uciml/pima-indians-diabetes-database/download?datasetVersionNumber=1). However, the dataset has been saved in a drive and can be downloaded into the notebook when the cell is run, so there isn't a need to download the download the dataset before running the notebook. This project was taken off the freeCodeCamp [Python TensorFlow for Machine Learning – Neural Network Text Classification Tutorial](https://www.youtube.com/watch?v=VtRLrQ3Ev-U&t=3410s) course.\n",
        "\n",
        "## Problem Statement\n",
        "\n",
        "The goal is to develop a model to predict whether or not a patient has diabetes, based on certain diagnostic measurements included in the dataset.\n"
      ],
      "metadata": {
        "id": "7z7JbxqrXH_X"
      }
    },
    {
      "cell_type": "code",
      "execution_count": null,
      "metadata": {
        "id": "MHGNQK7llweQ"
      },
      "outputs": [],
      "source": [
        "import numpy as np\n",
        "import pandas as pd\n",
        "import matplotlib.pyplot as plt\n",
        "import requests\n",
        "\n",
        "import tensorflow as tf\n",
        "from sklearn.model_selection import train_test_split\n",
        "from sklearn.preprocessing import StandardScaler\n",
        "from imblearn.over_sampling import RandomOverSampler"
      ]
    },
    {
      "cell_type": "code",
      "source": [
        "%%capture\n",
        "!pip install wandb"
      ],
      "metadata": {
        "id": "Ana3xqVVxuw0"
      },
      "execution_count": null,
      "outputs": []
    },
    {
      "cell_type": "code",
      "source": [
        "import wandb\n",
        "\n",
        "wandb.login()"
      ],
      "metadata": {
        "colab": {
          "base_uri": "https://localhost:8080/",
          "height": 139
        },
        "id": "BtHeLpb6yOgC",
        "outputId": "e3270860-819d-4a98-f5a3-504f133e319f"
      },
      "execution_count": null,
      "outputs": [
        {
          "metadata": {
            "tags": null
          },
          "name": "stderr",
          "output_type": "stream",
          "text": [
            "ERROR:wandb.jupyter:Failed to detect the name of this notebook, you can set it manually with the WANDB_NOTEBOOK_NAME environment variable to enable code saving.\n"
          ]
        },
        {
          "data": {
            "application/javascript": [
              "\n",
              "        window._wandbApiKey = new Promise((resolve, reject) => {\n",
              "            function loadScript(url) {\n",
              "            return new Promise(function(resolve, reject) {\n",
              "                let newScript = document.createElement(\"script\");\n",
              "                newScript.onerror = reject;\n",
              "                newScript.onload = resolve;\n",
              "                document.body.appendChild(newScript);\n",
              "                newScript.src = url;\n",
              "            });\n",
              "            }\n",
              "            loadScript(\"https://cdn.jsdelivr.net/npm/postmate/build/postmate.min.js\").then(() => {\n",
              "            const iframe = document.createElement('iframe')\n",
              "            iframe.style.cssText = \"width:0;height:0;border:none\"\n",
              "            document.body.appendChild(iframe)\n",
              "            const handshake = new Postmate({\n",
              "                container: iframe,\n",
              "                url: 'https://wandb.ai/authorize'\n",
              "            });\n",
              "            const timeout = setTimeout(() => reject(\"Couldn't auto authenticate\"), 5000)\n",
              "            handshake.then(function(child) {\n",
              "                child.on('authorize', data => {\n",
              "                    clearTimeout(timeout)\n",
              "                    resolve(data)\n",
              "                });\n",
              "            });\n",
              "            })\n",
              "        });\n",
              "    "
            ],
            "text/plain": [
              "<IPython.core.display.Javascript object>"
            ]
          },
          "metadata": {},
          "output_type": "display_data"
        },
        {
          "metadata": {
            "tags": null
          },
          "name": "stderr",
          "output_type": "stream",
          "text": [
            "\u001b[34m\u001b[1mwandb\u001b[0m: Logging into wandb.ai. (Learn how to deploy a W&B server locally: https://wandb.me/wandb-server)\n",
            "\u001b[34m\u001b[1mwandb\u001b[0m: You can find your API key in your browser here: https://wandb.ai/authorize\n",
            "wandb: Paste an API key from your profile and hit enter, or press ctrl+c to quit: "
          ]
        },
        {
          "name": "stdout",
          "output_type": "stream",
          "text": [
            "··········\n"
          ]
        },
        {
          "output_type": "stream",
          "name": "stderr",
          "text": [
            "\u001b[34m\u001b[1mwandb\u001b[0m: Appending key for api.wandb.ai to your netrc file: /root/.netrc\n"
          ]
        },
        {
          "output_type": "execute_result",
          "data": {
            "text/plain": [
              "True"
            ]
          },
          "metadata": {},
          "execution_count": 27
        }
      ]
    },
    {
      "cell_type": "markdown",
      "source": [
        "# Accessing the dataset\n",
        "The next cell has the link to the google drive repository, the id of the file and the name of the downloaded file."
      ],
      "metadata": {
        "id": "ilofD-zqf8XW"
      }
    },
    {
      "cell_type": "code",
      "source": [
        "URL ='https://drive.google.com/u/0/uc?id=1thSxj95Tfgz6I1KOFsmXz4OHv8FcLHk4&export=download'\n",
        "id = '1thSxj95Tfgz6I1KOFsmXz4OHv8FcLHk4'\n",
        "filename = 'diabetes.csv'"
      ],
      "metadata": {
        "id": "qmbgujKlmPcY"
      },
      "execution_count": null,
      "outputs": []
    },
    {
      "cell_type": "markdown",
      "source": [
        "# Download the file for Google Drive\n",
        "\n",
        "The next cell has an utility function to download a file from google drive given the `url` and the `uid`. It uses the requests library to create a session the saves the chucks of the response from a request to the `url`. You can choose to ignore the code as it is not relevant to building the model or solving the problem statement. In some ways, it might be a bloated solution and not a necessart step. However, feel free to explore."
      ],
      "metadata": {
        "id": "XI-ZYuuLgTa_"
      }
    },
    {
      "cell_type": "code",
      "source": [
        "def download_file_from_google_drive(url, uid, filename=\"data.csv\"):\n",
        "  \"\"\"Creates a request object to make request to a given url\n",
        "     and file id. The saves the response in a file with the \n",
        "     given filename\n",
        "\n",
        "     Parameters\n",
        "     ----------\n",
        "     url : str\n",
        "           the url of the resource\n",
        "     uid : str\n",
        "           the file id in the google drive\n",
        "     filename : str, optional\n",
        "                the name of the output file (default is `data.csv`)\n",
        "     \n",
        "     Returns\n",
        "     -------\n",
        "      None\n",
        "  \"\"\"\n",
        "  def get_confirm_token(response):\n",
        "    \"\"\"Gets the access token if any\n",
        "       \n",
        "       Parameters\n",
        "       ----------\n",
        "       response object : any\n",
        "                         response object of a get request\n",
        "        Returns\n",
        "        -------\n",
        "        str | None\n",
        "\n",
        "    \"\"\"\n",
        "    for key, value in response.cookies.items():\n",
        "      if key.startswith('download_warning'):\n",
        "        return value\n",
        "\n",
        "    return None\n",
        "\n",
        "  def save_response_content(response):\n",
        "    \"\"\"Save the response to the output file\n",
        "       \n",
        "       Parameters\n",
        "       ----------\n",
        "       response : any\n",
        "                  response obect of a get request\n",
        "\n",
        "       Returns\n",
        "       -------\n",
        "       None\n",
        "    \n",
        "    \"\"\"\n",
        "    CHUNK_SIZE = 32768\n",
        "\n",
        "    with open(filename, 'wb') as f:\n",
        "      for chunk in response.iter_content(CHUNK_SIZE):\n",
        "        if chunk:\n",
        "          f.write(chunk)\n",
        "\n",
        "\n",
        "  session = requests.Session()\n",
        "\n",
        "  response = session.get(url, params = {'id': id}, stream = True)\n",
        "  token = get_confirm_token(response)\n",
        "\n",
        "  if token:\n",
        "    params = {'id': id, 'confirm': token }\n",
        "    response = session.get(URL, params = params, stream = True)\n",
        "\n",
        "  save_response_content(response)"
      ],
      "metadata": {
        "id": "otwbnb5Db_9V"
      },
      "execution_count": null,
      "outputs": []
    },
    {
      "cell_type": "code",
      "source": [
        "download_file_from_google_drive(URL, id, filename)"
      ],
      "metadata": {
        "id": "2NpESIiJjUkz"
      },
      "execution_count": null,
      "outputs": []
    },
    {
      "cell_type": "markdown",
      "source": [
        "# Exploratory Data Analysis\n",
        "\n",
        "![EDA steps](https://datos.gob.es/sites/default/files/u322/grafico.jpg)\n",
        "The exploratory data analysis (EDA) is taking the necessary step to understand the data. It consist of applying a set of statistical techniques aimed at exploring, describing and summarizing the nature of the data. This way we can identify possible error, reveal the presence of outliers, check the relationship between variables (correlations) and their possible redundancy, and perform a descriptive analysis of the data by means of grapical representations and summaries of the most significant aspects."
      ],
      "metadata": {
        "id": "VQwT9lwCwyoV"
      }
    },
    {
      "cell_type": "code",
      "source": [
        "diabetes_df = pd.read_csv(filename)"
      ],
      "metadata": {
        "id": "Q25mdqdgl8fC"
      },
      "execution_count": null,
      "outputs": []
    },
    {
      "cell_type": "code",
      "source": [
        "diabetes_df.head()"
      ],
      "metadata": {
        "colab": {
          "base_uri": "https://localhost:8080/",
          "height": 206
        },
        "id": "1KCA_2bYalmB",
        "outputId": "64d8a5fb-a80d-4def-e023-176958930f86"
      },
      "execution_count": null,
      "outputs": [
        {
          "output_type": "execute_result",
          "data": {
            "text/plain": [
              "   Pregnancies  Glucose  BloodPressure  SkinThickness  Insulin   BMI  \\\n",
              "0            6      148             72             35        0  33.6   \n",
              "1            1       85             66             29        0  26.6   \n",
              "2            8      183             64              0        0  23.3   \n",
              "3            1       89             66             23       94  28.1   \n",
              "4            0      137             40             35      168  43.1   \n",
              "\n",
              "   DiabetesPedigreeFunction  Age  Outcome  \n",
              "0                     0.627   50        1  \n",
              "1                     0.351   31        0  \n",
              "2                     0.672   32        1  \n",
              "3                     0.167   21        0  \n",
              "4                     2.288   33        1  "
            ],
            "text/html": [
              "\n",
              "  <div id=\"df-023190e8-e1d6-4386-9147-0fb7e15c464e\">\n",
              "    <div class=\"colab-df-container\">\n",
              "      <div>\n",
              "<style scoped>\n",
              "    .dataframe tbody tr th:only-of-type {\n",
              "        vertical-align: middle;\n",
              "    }\n",
              "\n",
              "    .dataframe tbody tr th {\n",
              "        vertical-align: top;\n",
              "    }\n",
              "\n",
              "    .dataframe thead th {\n",
              "        text-align: right;\n",
              "    }\n",
              "</style>\n",
              "<table border=\"1\" class=\"dataframe\">\n",
              "  <thead>\n",
              "    <tr style=\"text-align: right;\">\n",
              "      <th></th>\n",
              "      <th>Pregnancies</th>\n",
              "      <th>Glucose</th>\n",
              "      <th>BloodPressure</th>\n",
              "      <th>SkinThickness</th>\n",
              "      <th>Insulin</th>\n",
              "      <th>BMI</th>\n",
              "      <th>DiabetesPedigreeFunction</th>\n",
              "      <th>Age</th>\n",
              "      <th>Outcome</th>\n",
              "    </tr>\n",
              "  </thead>\n",
              "  <tbody>\n",
              "    <tr>\n",
              "      <th>0</th>\n",
              "      <td>6</td>\n",
              "      <td>148</td>\n",
              "      <td>72</td>\n",
              "      <td>35</td>\n",
              "      <td>0</td>\n",
              "      <td>33.6</td>\n",
              "      <td>0.627</td>\n",
              "      <td>50</td>\n",
              "      <td>1</td>\n",
              "    </tr>\n",
              "    <tr>\n",
              "      <th>1</th>\n",
              "      <td>1</td>\n",
              "      <td>85</td>\n",
              "      <td>66</td>\n",
              "      <td>29</td>\n",
              "      <td>0</td>\n",
              "      <td>26.6</td>\n",
              "      <td>0.351</td>\n",
              "      <td>31</td>\n",
              "      <td>0</td>\n",
              "    </tr>\n",
              "    <tr>\n",
              "      <th>2</th>\n",
              "      <td>8</td>\n",
              "      <td>183</td>\n",
              "      <td>64</td>\n",
              "      <td>0</td>\n",
              "      <td>0</td>\n",
              "      <td>23.3</td>\n",
              "      <td>0.672</td>\n",
              "      <td>32</td>\n",
              "      <td>1</td>\n",
              "    </tr>\n",
              "    <tr>\n",
              "      <th>3</th>\n",
              "      <td>1</td>\n",
              "      <td>89</td>\n",
              "      <td>66</td>\n",
              "      <td>23</td>\n",
              "      <td>94</td>\n",
              "      <td>28.1</td>\n",
              "      <td>0.167</td>\n",
              "      <td>21</td>\n",
              "      <td>0</td>\n",
              "    </tr>\n",
              "    <tr>\n",
              "      <th>4</th>\n",
              "      <td>0</td>\n",
              "      <td>137</td>\n",
              "      <td>40</td>\n",
              "      <td>35</td>\n",
              "      <td>168</td>\n",
              "      <td>43.1</td>\n",
              "      <td>2.288</td>\n",
              "      <td>33</td>\n",
              "      <td>1</td>\n",
              "    </tr>\n",
              "  </tbody>\n",
              "</table>\n",
              "</div>\n",
              "      <button class=\"colab-df-convert\" onclick=\"convertToInteractive('df-023190e8-e1d6-4386-9147-0fb7e15c464e')\"\n",
              "              title=\"Convert this dataframe to an interactive table.\"\n",
              "              style=\"display:none;\">\n",
              "        \n",
              "  <svg xmlns=\"http://www.w3.org/2000/svg\" height=\"24px\"viewBox=\"0 0 24 24\"\n",
              "       width=\"24px\">\n",
              "    <path d=\"M0 0h24v24H0V0z\" fill=\"none\"/>\n",
              "    <path d=\"M18.56 5.44l.94 2.06.94-2.06 2.06-.94-2.06-.94-.94-2.06-.94 2.06-2.06.94zm-11 1L8.5 8.5l.94-2.06 2.06-.94-2.06-.94L8.5 2.5l-.94 2.06-2.06.94zm10 10l.94 2.06.94-2.06 2.06-.94-2.06-.94-.94-2.06-.94 2.06-2.06.94z\"/><path d=\"M17.41 7.96l-1.37-1.37c-.4-.4-.92-.59-1.43-.59-.52 0-1.04.2-1.43.59L10.3 9.45l-7.72 7.72c-.78.78-.78 2.05 0 2.83L4 21.41c.39.39.9.59 1.41.59.51 0 1.02-.2 1.41-.59l7.78-7.78 2.81-2.81c.8-.78.8-2.07 0-2.86zM5.41 20L4 18.59l7.72-7.72 1.47 1.35L5.41 20z\"/>\n",
              "  </svg>\n",
              "      </button>\n",
              "      \n",
              "  <style>\n",
              "    .colab-df-container {\n",
              "      display:flex;\n",
              "      flex-wrap:wrap;\n",
              "      gap: 12px;\n",
              "    }\n",
              "\n",
              "    .colab-df-convert {\n",
              "      background-color: #E8F0FE;\n",
              "      border: none;\n",
              "      border-radius: 50%;\n",
              "      cursor: pointer;\n",
              "      display: none;\n",
              "      fill: #1967D2;\n",
              "      height: 32px;\n",
              "      padding: 0 0 0 0;\n",
              "      width: 32px;\n",
              "    }\n",
              "\n",
              "    .colab-df-convert:hover {\n",
              "      background-color: #E2EBFA;\n",
              "      box-shadow: 0px 1px 2px rgba(60, 64, 67, 0.3), 0px 1px 3px 1px rgba(60, 64, 67, 0.15);\n",
              "      fill: #174EA6;\n",
              "    }\n",
              "\n",
              "    [theme=dark] .colab-df-convert {\n",
              "      background-color: #3B4455;\n",
              "      fill: #D2E3FC;\n",
              "    }\n",
              "\n",
              "    [theme=dark] .colab-df-convert:hover {\n",
              "      background-color: #434B5C;\n",
              "      box-shadow: 0px 1px 3px 1px rgba(0, 0, 0, 0.15);\n",
              "      filter: drop-shadow(0px 1px 2px rgba(0, 0, 0, 0.3));\n",
              "      fill: #FFFFFF;\n",
              "    }\n",
              "  </style>\n",
              "\n",
              "      <script>\n",
              "        const buttonEl =\n",
              "          document.querySelector('#df-023190e8-e1d6-4386-9147-0fb7e15c464e button.colab-df-convert');\n",
              "        buttonEl.style.display =\n",
              "          google.colab.kernel.accessAllowed ? 'block' : 'none';\n",
              "\n",
              "        async function convertToInteractive(key) {\n",
              "          const element = document.querySelector('#df-023190e8-e1d6-4386-9147-0fb7e15c464e');\n",
              "          const dataTable =\n",
              "            await google.colab.kernel.invokeFunction('convertToInteractive',\n",
              "                                                     [key], {});\n",
              "          if (!dataTable) return;\n",
              "\n",
              "          const docLinkHtml = 'Like what you see? Visit the ' +\n",
              "            '<a target=\"_blank\" href=https://colab.research.google.com/notebooks/data_table.ipynb>data table notebook</a>'\n",
              "            + ' to learn more about interactive tables.';\n",
              "          element.innerHTML = '';\n",
              "          dataTable['output_type'] = 'display_data';\n",
              "          await google.colab.output.renderOutput(dataTable, element);\n",
              "          const docLink = document.createElement('div');\n",
              "          docLink.innerHTML = docLinkHtml;\n",
              "          element.appendChild(docLink);\n",
              "        }\n",
              "      </script>\n",
              "    </div>\n",
              "  </div>\n",
              "  "
            ]
          },
          "metadata": {},
          "execution_count": 10
        }
      ]
    },
    {
      "cell_type": "code",
      "source": [
        "# view datatypes of each column\n",
        "diabetes_df.dtypes"
      ],
      "metadata": {
        "colab": {
          "base_uri": "https://localhost:8080/"
        },
        "id": "0dARBGh5B8GR",
        "outputId": "f660124c-3c59-4008-8fc2-6b00c2b36d11"
      },
      "execution_count": null,
      "outputs": [
        {
          "output_type": "execute_result",
          "data": {
            "text/plain": [
              "Pregnancies                   int64\n",
              "Glucose                       int64\n",
              "BloodPressure                 int64\n",
              "SkinThickness                 int64\n",
              "Insulin                       int64\n",
              "BMI                         float64\n",
              "DiabetesPedigreeFunction    float64\n",
              "Age                           int64\n",
              "Outcome                       int64\n",
              "dtype: object"
            ]
          },
          "metadata": {},
          "execution_count": 11
        }
      ]
    },
    {
      "cell_type": "code",
      "source": [
        "# check for nulls in dataframe\n",
        "diabetes_df.isnull().values.any()"
      ],
      "metadata": {
        "colab": {
          "base_uri": "https://localhost:8080/"
        },
        "id": "S_tU7Z3yCe85",
        "outputId": "3007e176-a234-453d-dd6d-3f78b4a83b9f"
      },
      "execution_count": null,
      "outputs": [
        {
          "output_type": "execute_result",
          "data": {
            "text/plain": [
              "False"
            ]
          },
          "metadata": {},
          "execution_count": 12
        }
      ]
    },
    {
      "cell_type": "markdown",
      "source": [
        "## 🥽 Data Visualization\n",
        "\n",
        "After our numerical exploration of the data for NaNs and missing values (termed as the data cleaning step), we proceed to the visualization step. This is an indepth topic and can only be summarized in this notebook. The choice of visualization is based on the question one is trying to answer. In this step, we turn to histograms to give a visual of the relationship between the columns of the dataset and the output we want to predict (the `Outcome`).\n",
        "\n",
        "So we will make a histogram of each column except the `Outcome` column to visualize the distribution of the two cases `Diabetes` or `No Diabetes`. The `Diabetic` case is coloured blue while the `No Diabetes` case is coloured red. Choosing a bin size of the square root of the number of data point is a good rule of thumb."
      ],
      "metadata": {
        "id": "7gVd_kXPUqIZ"
      }
    },
    {
      "cell_type": "code",
      "source": [
        "for i in range(len(diabetes_df.columns[:-1])):\n",
        "  label = diabetes_df.columns[i]\n",
        "  diabetes_data = diabetes_df[diabetes_df['Outcome']==1][label]\n",
        "  n_bins = np.sqrt(len(diabetes_data))\n",
        "  plt.hist(diabetes_data, color='blue', label='Diabetes', alpha=0.7, density=True, bins=int(n_bins))\n",
        "  no_diabetes_data = diabetes_df[diabetes_df['Outcome']==0][label]\n",
        "  n_bins = np.sqrt(len(no_diabetes_data))\n",
        "  plt.hist(no_diabetes_data, color='red', label='No diabetes', alpha=0.7, density=True, bins=int(n_bins))\n",
        "  plt.title(label)\n",
        "  plt.ylabel('Probability')\n",
        "  plt.xlabel(label)\n",
        "  plt.legend()\n",
        "  plt.show()"
      ],
      "metadata": {
        "colab": {
          "base_uri": "https://localhost:8080/",
          "height": 1000
        },
        "id": "uosXPxqFH8RT",
        "outputId": "c0b7b66e-ed91-486d-e9d8-978e97d389bd"
      },
      "execution_count": null,
      "outputs": [
        {
          "output_type": "display_data",
          "data": {
            "text/plain": [
              "<Figure size 432x288 with 1 Axes>"
            ],
            "image/png": "[encoded data removed]"
          },
          "metadata": {
            "needs_background": "light"
          }
        },
        {
          "output_type": "display_data",
          "data": {
            "text/plain": [
              "<Figure size 432x288 with 1 Axes>"
            ],
            "image/png": "[encoded data removed]"
          },
          "metadata": {
            "needs_background": "light"
          }
        },
        {
          "output_type": "display_data",
          "data": {
            "text/plain": [
              "<Figure size 432x288 with 1 Axes>"
            ],
            "image/png": "[encoded data removed]"
          },
          "metadata": {
            "needs_background": "light"
          }
        },
        {
          "output_type": "display_data",
          "data": {
            "text/plain": [
              "<Figure size 432x288 with 1 Axes>"
            ],
            "image/png": "[encoded data removed]"
          },
          "metadata": {
            "needs_background": "light"
          }
        },
        {
          "output_type": "display_data",
          "data": {
            "text/plain": [
              "<Figure size 432x288 with 1 Axes>"
            ],
            "image/png": "[encoded data removed]"
          },
          "metadata": {
            "needs_background": "light"
          }
        },
        {
          "output_type": "display_data",
          "data": {
            "text/plain": [
              "<Figure size 432x288 with 1 Axes>"
            ],
            "image/png": "[encoded data removed]"
          },
          "metadata": {
            "needs_background": "light"
          }
        },
        {
          "output_type": "display_data",
          "data": {
            "text/plain": [
              "<Figure size 432x288 with 1 Axes>"
            ],
            "image/png": "[encoded data removed]"
          },
          "metadata": {
            "needs_background": "light"
          }
        },
        {
          "output_type": "display_data",
          "data": {
            "text/plain": [
              "<Figure size 432x288 with 1 Axes>"
            ],
            "image/png": "[encoded data removed]"
          },
          "metadata": {
            "needs_background": "light"
          }
        }
      ]
    },
    {
      "cell_type": "markdown",
      "source": [
        "# 👩‍🍳 Prepare the dataset\n",
        "\n",
        "The dataset will be splitted into test, train, and validation **sets**"
      ],
      "metadata": {
        "id": "Fl-FRPBW7iwi"
      }
    },
    {
      "cell_type": "code",
      "source": [
        "# split the features and labels of the data\n",
        "X = diabetes_df[diabetes_df.columns[:-1]].values\n",
        "y = diabetes_df[diabetes_df.columns[-1]].values"
      ],
      "metadata": {
        "id": "I_jYA1ThKvhW"
      },
      "execution_count": null,
      "outputs": []
    },
    {
      "cell_type": "code",
      "source": [
        "X_train, X_temp, y_train, y_temp = train_test_split(X, y, test_size=0.4, random_state=0)\n",
        "X_valid, X_test, y_valid, y_test = train_test_split(X_temp, y_temp, test_size=0.5, random_state=0)"
      ],
      "metadata": {
        "id": "LOq5PNrZ6ivn"
      },
      "execution_count": null,
      "outputs": []
    },
    {
      "cell_type": "code",
      "source": [
        "batch_size = 16\n",
        "train_dataset = tf.data.Dataset\\\n",
        "                .from_tensor_slices((X_train, y_train))\\\n",
        "                .shuffle(buffer_size=1024)\\\n",
        "                .batch(batch_size=batch_size)"
      ],
      "metadata": {
        "id": "Nns8rylZ312r"
      },
      "execution_count": null,
      "outputs": []
    },
    {
      "cell_type": "code",
      "source": [
        "val_dataset = tf.data.Dataset\\\n",
        "              .from_tensor_slices((X_test, y_test))\\\n",
        "              .shuffle(buffer_size=1024)\\\n",
        "              .batch(batch_size=batch_size)"
      ],
      "metadata": {
        "id": "o2b8Ppir1hDA"
      },
      "execution_count": null,
      "outputs": []
    },
    {
      "cell_type": "markdown",
      "source": [
        "# 🧠 Building the model and training loop\n",
        "\n",
        "Next, we build the models using the keras library. Our neural network will have two hidden layers of 16 nodes each, a single node output layer and an input layer of N number of nodes; where N is the number of features in the dataset."
      ],
      "metadata": {
        "id": "Sqs7ZvnS8LVC"
      }
    },
    {
      "cell_type": "code",
      "source": [
        "def build_model(input_shape):\n",
        "  return tf.keras.Sequential([\n",
        "                             tf.keras.layers.Dense(16, input_shape=(input_shape,), activation='relu'), \n",
        "                             tf.keras.layers.Dense(16, activation='relu'),\n",
        "                             tf.keras.layers.Dense(1, activation='sigmoid')\n",
        "                              ])"
      ],
      "metadata": {
        "id": "GT3j41Tw6k9I"
      },
      "execution_count": null,
      "outputs": []
    },
    {
      "cell_type": "markdown",
      "source": [
        "## 🚆 ➰ Writing a custom train and evaluation function\n",
        "\n",
        "Keras already has methods to build and train a model. This is particularly heplful to speed the development process. Shown below is the sequence of steps taken to build and train a model in keras.\n",
        "```python\n",
        "  # build the model\n",
        "  model = build_model(X.shape[1])\n",
        "  # compile the models for training with \n",
        "  # training alogirithm, loss funciton \n",
        "  # and measurement metric\n",
        "  model.compile(optimizer=tf.keras.optimizers.Adam(learning_rate=0.001), \n",
        "              loss=tf.keras.losses.BinaryCrossentropy(), \n",
        "              metrics=['accuracy'])\n",
        "  # train the model and validate training\n",
        "  # alongside training with test dataset\n",
        "  model.fit(X_train, y_train, batch_size=batch_size, epochs=20,\n",
        "            validation_data=(X_valid, y_valid))\n",
        "  # test model on a validation\n",
        "  # dataset to measure the accuracy\n",
        "  # of the model \n",
        "  model.evaluate(X_valid, y_valid)\n",
        "```\n",
        "\n",
        "However, we will custom define this training and evaluation steps to give us more granuality with our development."
      ],
      "metadata": {
        "id": "1E74V55c05U5"
      }
    },
    {
      "cell_type": "code",
      "source": [
        "def train(train_dataset, \n",
        "          val_dataset, model, \n",
        "          loss_fn, optimizer, \n",
        "          epochs, train_acc_metric, \n",
        "          val_acc_metric):\n",
        "  \"\"\"\n",
        "      A custom training and evaluation funtion for an NN model with Keras and TF\n",
        "\n",
        "      Parameters\n",
        "      ---------\n",
        "      train_dataset : (tf.tensor)\n",
        "                      a tensor of  \n",
        "  \n",
        "  \"\"\"\n",
        "  train_loss = []\n",
        "  val_loss = []\n",
        "\n",
        "  for epoch in range(epochs):\n",
        "    print(\"\\nStart of epoch %d\" % epoch)\n",
        "\n",
        "    # iterate over a batch of the training dataset\n",
        "    for step, (X_train_batch, y_train_batch) in enumerate(train_dataset): \n",
        "      # Create a scope with tf.GradientTape() \n",
        "      # to record the operation run during\n",
        "      # forward pass to enable auto-differentiation\n",
        "      with tf.GradientTape() as tape:\n",
        "        # Through the forward propagation\n",
        "        # of the network, the operations \n",
        "        # run at the layers are recorded\n",
        "        # on GradientTape()\n",
        "        logits = model(X_train_batch, training=True)\n",
        "\n",
        "        # Then we compute the loss value for\n",
        "        # the batch\n",
        "        loss = loss_fn(y_train_batch, logits)\n",
        "\n",
        "      # Retrieve the gradients of the trainable weights \n",
        "      gradients = tape.gradient(loss, model.trainable_weights)\n",
        "\n",
        "      # update the weights using an\n",
        "      # optimizer instance\n",
        "      optimizer.apply_gradients(zip(gradients, model.trainable_weights))\n",
        "\n",
        "      # save the loss\n",
        "      train_loss.append(float(loss))\n",
        "\n",
        "      # save the accuracy of the training ops\n",
        "      train_acc_metric.update_state(y_train_batch, logits)\n",
        "\n",
        "      # Show progess at every 10 iterations\n",
        "      if step % 10 == 0:\n",
        "        print(\"Training loss (for a batch) at step %d: %.4f\" % (step + 1, loss))\n",
        "        print(\"So far, %d samples have been used to train the model\" % ((step + 1) * batch_size))\n",
        "\n",
        "    # evaluate the trained model\n",
        "    # iterate over batches of the validation dataset\n",
        "    for step, (X_val_batch, y_val_batch) in enumerate(val_dataset):\n",
        "      # forward propagate through the network\n",
        "      logits = model(X_val_batch, training=False)\n",
        "\n",
        "      # compute the loss\n",
        "      val_loss.append(float(loss_fn(y_val_batch, logits)))\n",
        "\n",
        "      # save the accuracy of the validation ops\n",
        "      val_acc_metric.update_state(y_val_batch, logits)\n",
        "\n",
        "    \n",
        "    # Display the accuracy of the training ops\n",
        "    train_acc = train_acc_metric.result()\n",
        "    print(\"The accuracy of the training is %.3f\" % float(train_acc))\n",
        "\n",
        "    # Display the accuracy of the validation ops\n",
        "    val_acc = val_acc_metric.result()\n",
        "    print(\"The accuracy of the validation is %.3f\" % float(val_acc))\n",
        "\n",
        "    # Reset the metric for the next epoch\n",
        "    train_acc_metric.reset_states()\n",
        "    val_acc_metric.reset_states()\n",
        "\n",
        "    # ⭐: log metrics using wandb.log\n",
        "    wandb.log({'epochs': epoch,\n",
        "                'loss': np.mean(train_loss),\n",
        "                'acc': float(train_acc), \n",
        "                'val_loss': np.mean(val_loss),\n",
        "                'val_acc':float(val_acc)})\n",
        "    "
      ],
      "metadata": {
        "id": "8nE5a9F604om"
      },
      "execution_count": null,
      "outputs": []
    },
    {
      "cell_type": "code",
      "source": [
        "# initialize wandb with your project name and optionally with configutations.\n",
        "# play around with the config values and see the result on your wandb dashboard.\n",
        "config = {\n",
        "              \"learning_rate\": 0.001,\n",
        "              \"epochs\": 20,\n",
        "              \"batch_size\": batch_size,\n",
        "              \"log_step\": 2,\n",
        "              \"val_log_step\": 1\n",
        "           }\n",
        "\n",
        "run = wandb.init(project=\"diabetes-classification-project\", config=config)\n",
        "config = wandb.config\n",
        "\n",
        "# build the model\n",
        "model = build_model(X.shape[1])\n",
        "\n",
        "# initialize the optimizer, loss function, accuracy metrics\n",
        "\n",
        "optimizer = tf.keras.optimizers.Adam(learning_rate=config.learning_rate)\n",
        "\n",
        "loss_fn = tf.keras.losses.BinaryCrossentropy()\n",
        "\n",
        "train_acc_metric = tf.keras.metrics.BinaryAccuracy()\n",
        "val_acc_metric = tf.keras.metrics.BinaryAccuracy()\n",
        "\n",
        "# train and evaluate the model\n",
        "train(train_dataset, \n",
        "      val_dataset, \n",
        "      model, loss_fn, \n",
        "      optimizer, \n",
        "      config.epochs, \n",
        "      train_acc_metric, \n",
        "      val_acc_metric)\n",
        "\n",
        "# indicate the end of a run\n",
        "run.finish() "
      ],
      "metadata": {
        "colab": {
          "base_uri": "https://localhost:8080/",
          "height": 1000,
          "referenced_widgets": [
            "4126e5c9514c4588bed1d5675783b69b",
            "0e9fbc68a1834571b2f9ff1ff91b7d23",
            "413c97d07ec24a68938d8c27486dd505",
            "f79177baab9c457a94b3e99dcded1605",
            "696561c292874e2db237b525f34e01d2",
            "413e7644bf1843c6a8637afb07320cfb",
            "43d30097713d445c964fd99c5700614c",
            "fe88a81935e54562af9b11379f4b4994"
          ]
        },
        "id": "sR93K_aW-bpy",
        "outputId": "490928e1-e9c8-4857-e028-b77b9086c0db"
      },
      "execution_count": null,
      "outputs": [
        {
          "output_type": "display_data",
          "data": {
            "text/plain": [
              "<IPython.core.display.HTML object>"
            ],
            "text/html": [
              "Tracking run with wandb version 0.13.3"
            ]
          },
          "metadata": {}
        },
        {
          "output_type": "display_data",
          "data": {
            "text/plain": [
              "<IPython.core.display.HTML object>"
            ],
            "text/html": [
              "Run data is saved locally in <code>/content/wandb/run-20220929_134300-457a4zn3</code>"
            ]
          },
          "metadata": {}
        },
        {
          "output_type": "display_data",
          "data": {
            "text/plain": [
              "<IPython.core.display.HTML object>"
            ],
            "text/html": [
              "Syncing run <strong><a href=\"https://wandb.ai/ohgay/diabetes-classification-project/runs/457a4zn3\" target=\"_blank\">vague-puddle-12</a></strong> to <a href=\"https://wandb.ai/ohgay/diabetes-classification-project\" target=\"_blank\">Weights & Biases</a> (<a href=\"https://wandb.me/run\" target=\"_blank\">docs</a>)<br/>"
            ]
          },
          "metadata": {}
        },
        {
          "output_type": "stream",
          "name": "stdout",
          "text": [
            "\n",
            "Start of epoch 0\n",
            "Training loss (for a batch) at step 1: 4.1343\n",
            "So far, 16 samples have been used to train the model\n",
            "Training loss (for a batch) at step 11: 4.0209\n",
            "So far, 176 samples have been used to train the model\n",
            "Training loss (for a batch) at step 21: 2.4440\n",
            "So far, 336 samples have been used to train the model\n",
            "The accuracy of the training is 0.357\n",
            "The accuracy of the validation is 0.317\n",
            "\n",
            "Start of epoch 1\n",
            "Training loss (for a batch) at step 1: 1.7566\n",
            "So far, 16 samples have been used to train the model\n",
            "Training loss (for a batch) at step 11: 0.9212\n",
            "So far, 176 samples have been used to train the model\n",
            "Training loss (for a batch) at step 21: 2.1527\n",
            "So far, 336 samples have been used to train the model\n",
            "The accuracy of the training is 0.359\n",
            "The accuracy of the validation is 0.314\n",
            "\n",
            "Start of epoch 2\n",
            "Training loss (for a batch) at step 1: 1.4631\n",
            "So far, 16 samples have been used to train the model\n",
            "Training loss (for a batch) at step 11: 1.3584\n",
            "So far, 176 samples have been used to train the model\n",
            "Training loss (for a batch) at step 21: 1.9654\n",
            "So far, 336 samples have been used to train the model\n",
            "The accuracy of the training is 0.357\n",
            "The accuracy of the validation is 0.321\n",
            "\n",
            "Start of epoch 3\n",
            "Training loss (for a batch) at step 1: 1.6592\n",
            "So far, 16 samples have been used to train the model\n",
            "Training loss (for a batch) at step 11: 1.3122\n",
            "So far, 176 samples have been used to train the model\n",
            "Training loss (for a batch) at step 21: 2.5126\n",
            "So far, 336 samples have been used to train the model\n",
            "The accuracy of the training is 0.360\n",
            "The accuracy of the validation is 0.310\n",
            "\n",
            "Start of epoch 4\n",
            "Training loss (for a batch) at step 1: 1.0532\n",
            "So far, 16 samples have been used to train the model\n",
            "Training loss (for a batch) at step 11: 0.7659\n",
            "So far, 176 samples have been used to train the model\n",
            "Training loss (for a batch) at step 21: 1.7797\n",
            "So far, 336 samples have been used to train the model\n",
            "The accuracy of the training is 0.361\n",
            "The accuracy of the validation is 0.321\n",
            "\n",
            "Start of epoch 5\n",
            "Training loss (for a batch) at step 1: 1.1465\n",
            "So far, 16 samples have been used to train the model\n",
            "Training loss (for a batch) at step 11: 1.6090\n",
            "So far, 176 samples have been used to train the model\n",
            "Training loss (for a batch) at step 21: 0.9092\n",
            "So far, 336 samples have been used to train the model\n",
            "The accuracy of the training is 0.358\n",
            "The accuracy of the validation is 0.317\n",
            "\n",
            "Start of epoch 6\n",
            "Training loss (for a batch) at step 1: 0.4012\n",
            "So far, 16 samples have been used to train the model\n",
            "Training loss (for a batch) at step 11: 1.0089\n",
            "So far, 176 samples have been used to train the model\n",
            "Training loss (for a batch) at step 21: 0.7126\n",
            "So far, 336 samples have been used to train the model\n",
            "The accuracy of the training is 0.358\n",
            "The accuracy of the validation is 0.325\n",
            "\n",
            "Start of epoch 7\n",
            "Training loss (for a batch) at step 1: 1.5927\n",
            "So far, 16 samples have been used to train the model\n",
            "Training loss (for a batch) at step 11: 0.3555\n",
            "So far, 176 samples have been used to train the model\n",
            "Training loss (for a batch) at step 21: 0.5755\n",
            "So far, 336 samples have been used to train the model\n",
            "The accuracy of the training is 0.359\n",
            "The accuracy of the validation is 0.321\n",
            "\n",
            "Start of epoch 8\n",
            "Training loss (for a batch) at step 1: 0.7311\n",
            "So far, 16 samples have been used to train the model\n",
            "Training loss (for a batch) at step 11: 1.2130\n",
            "So far, 176 samples have been used to train the model\n",
            "Training loss (for a batch) at step 21: 0.5331\n",
            "So far, 336 samples have been used to train the model\n",
            "The accuracy of the training is 0.358\n",
            "The accuracy of the validation is 0.321\n",
            "\n",
            "Start of epoch 9\n",
            "Training loss (for a batch) at step 1: 0.2611\n",
            "So far, 16 samples have been used to train the model\n",
            "Training loss (for a batch) at step 11: 0.8296\n",
            "So far, 176 samples have been used to train the model\n",
            "Training loss (for a batch) at step 21: 1.3862\n",
            "So far, 336 samples have been used to train the model\n",
            "The accuracy of the training is 0.358\n",
            "The accuracy of the validation is 0.325\n",
            "\n",
            "Start of epoch 10\n",
            "Training loss (for a batch) at step 1: 0.8260\n",
            "So far, 16 samples have been used to train the model\n",
            "Training loss (for a batch) at step 11: 0.9347\n",
            "So far, 176 samples have been used to train the model\n",
            "Training loss (for a batch) at step 21: 0.7395\n",
            "So far, 336 samples have been used to train the model\n",
            "The accuracy of the training is 0.358\n",
            "The accuracy of the validation is 0.317\n",
            "\n",
            "Start of epoch 11\n",
            "Training loss (for a batch) at step 1: 0.9224\n",
            "So far, 16 samples have been used to train the model\n",
            "Training loss (for a batch) at step 11: 0.6349\n",
            "So far, 176 samples have been used to train the model\n",
            "Training loss (for a batch) at step 21: 0.4693\n",
            "So far, 336 samples have been used to train the model\n",
            "The accuracy of the training is 0.358\n",
            "The accuracy of the validation is 0.314\n",
            "\n",
            "Start of epoch 12\n",
            "Training loss (for a batch) at step 1: 0.5928\n",
            "So far, 16 samples have been used to train the model\n",
            "Training loss (for a batch) at step 11: 0.7702\n",
            "So far, 176 samples have been used to train the model\n",
            "Training loss (for a batch) at step 21: 0.5242\n",
            "So far, 336 samples have been used to train the model\n",
            "The accuracy of the training is 0.359\n",
            "The accuracy of the validation is 0.321\n",
            "\n",
            "Start of epoch 13\n",
            "Training loss (for a batch) at step 1: 0.8094\n",
            "So far, 16 samples have been used to train the model\n",
            "Training loss (for a batch) at step 11: 0.4351\n",
            "So far, 176 samples have been used to train the model\n",
            "Training loss (for a batch) at step 21: 0.5994\n",
            "So far, 336 samples have been used to train the model\n",
            "The accuracy of the training is 0.358\n",
            "The accuracy of the validation is 0.317\n",
            "\n",
            "Start of epoch 14\n",
            "Training loss (for a batch) at step 1: 0.4911\n",
            "So far, 16 samples have been used to train the model\n",
            "Training loss (for a batch) at step 11: 0.7684\n",
            "So far, 176 samples have been used to train the model\n",
            "Training loss (for a batch) at step 21: 0.9190\n",
            "So far, 336 samples have been used to train the model\n",
            "The accuracy of the training is 0.358\n",
            "The accuracy of the validation is 0.310\n",
            "\n",
            "Start of epoch 15\n",
            "Training loss (for a batch) at step 1: 0.4862\n",
            "So far, 16 samples have been used to train the model\n",
            "Training loss (for a batch) at step 11: 0.6174\n",
            "So far, 176 samples have been used to train the model\n",
            "Training loss (for a batch) at step 21: 0.7190\n",
            "So far, 336 samples have been used to train the model\n",
            "The accuracy of the training is 0.359\n",
            "The accuracy of the validation is 0.325\n",
            "\n",
            "Start of epoch 16\n",
            "Training loss (for a batch) at step 1: 0.9017\n",
            "So far, 16 samples have been used to train the model\n",
            "Training loss (for a batch) at step 11: 0.4996\n",
            "So far, 176 samples have been used to train the model\n",
            "Training loss (for a batch) at step 21: 0.3689\n",
            "So far, 336 samples have been used to train the model\n",
            "The accuracy of the training is 0.360\n",
            "The accuracy of the validation is 0.317\n",
            "\n",
            "Start of epoch 17\n",
            "Training loss (for a batch) at step 1: 0.3870\n",
            "So far, 16 samples have been used to train the model\n",
            "Training loss (for a batch) at step 11: 0.6884\n",
            "So far, 176 samples have been used to train the model\n",
            "Training loss (for a batch) at step 21: 0.7146\n",
            "So far, 336 samples have been used to train the model\n",
            "The accuracy of the training is 0.359\n",
            "The accuracy of the validation is 0.317\n",
            "\n",
            "Start of epoch 18\n",
            "Training loss (for a batch) at step 1: 0.5402\n",
            "So far, 16 samples have been used to train the model\n",
            "Training loss (for a batch) at step 11: 0.2906\n",
            "So far, 176 samples have been used to train the model\n",
            "Training loss (for a batch) at step 21: 0.3982\n",
            "So far, 336 samples have been used to train the model\n",
            "The accuracy of the training is 0.358\n",
            "The accuracy of the validation is 0.317\n",
            "\n",
            "Start of epoch 19\n",
            "Training loss (for a batch) at step 1: 0.5803\n",
            "So far, 16 samples have been used to train the model\n",
            "Training loss (for a batch) at step 11: 0.4688\n",
            "So far, 176 samples have been used to train the model\n",
            "Training loss (for a batch) at step 21: 0.4928\n",
            "So far, 336 samples have been used to train the model\n",
            "The accuracy of the training is 0.361\n",
            "The accuracy of the validation is 0.317\n"
          ]
        },
        {
          "output_type": "display_data",
          "data": {
            "text/plain": [
              "<IPython.core.display.HTML object>"
            ],
            "text/html": [
              "Waiting for W&B process to finish... <strong style=\"color:green\">(success).</strong>"
            ]
          },
          "metadata": {}
        },
        {
          "output_type": "display_data",
          "data": {
            "text/plain": [
              "VBox(children=(Label(value='0.000 MB of 0.000 MB uploaded (0.000 MB deduped)\\r'), FloatProgress(value=1.0, max…"
            ],
            "application/vnd.jupyter.widget-view+json": {
              "version_major": 2,
              "version_minor": 0,
              "model_id": "4126e5c9514c4588bed1d5675783b69b"
            }
          },
          "metadata": {}
        },
        {
          "output_type": "display_data",
          "data": {
            "text/plain": [
              "<IPython.core.display.HTML object>"
            ],
            "text/html": [
              "<style>\n",
              "    table.wandb td:nth-child(1) { padding: 0 10px; text-align: left ; width: auto;} td:nth-child(2) {text-align: left ; width: 100%}\n",
              "    .wandb-row { display: flex; flex-direction: row; flex-wrap: wrap; justify-content: flex-start; width: 100% }\n",
              "    .wandb-col { display: flex; flex-direction: column; flex-basis: 100%; flex: 1; padding: 10px; }\n",
              "    </style>\n",
              "<div class=\"wandb-row\"><div class=\"wandb-col\"><h3>Run history:</h3><br/><table class=\"wandb\"><tr><td>acc</td><td>▁▅▁▇█▂▂▅▄▄▂▄▅▂▂▅▇▅▄█</td></tr><tr><td>epochs</td><td>▁▁▂▂▂▃▃▄▄▄▅▅▅▆▆▇▇▇██</td></tr><tr><td>loss</td><td>█▇▆▅▅▄▄▃▃▃▂▂▂▂▂▁▁▁▁▁</td></tr><tr><td>val_acc</td><td>▅▃▆▁▆▅█▆▆█▅▃▆▅▁█▅▅▅▅</td></tr><tr><td>val_loss</td><td>█▇▆▅▅▄▃▃▃▂▂▂▂▂▂▁▁▁▁▁</td></tr></table><br/></div><div class=\"wandb-col\"><h3>Run summary:</h3><br/><table class=\"wandb\"><tr><td>acc</td><td>0.36063</td></tr><tr><td>epochs</td><td>19</td></tr><tr><td>loss</td><td>1.00091</td></tr><tr><td>val_acc</td><td>0.3175</td></tr><tr><td>val_loss</td><td>0.93268</td></tr></table><br/></div></div>"
            ]
          },
          "metadata": {}
        },
        {
          "output_type": "display_data",
          "data": {
            "text/plain": [
              "<IPython.core.display.HTML object>"
            ],
            "text/html": [
              "Synced <strong style=\"color:#cdcd00\">vague-puddle-12</strong>: <a href=\"https://wandb.ai/ohgay/diabetes-classification-project/runs/457a4zn3\" target=\"_blank\">https://wandb.ai/ohgay/diabetes-classification-project/runs/457a4zn3</a><br/>Synced 5 W&B file(s), 0 media file(s), 0 artifact file(s) and 0 other file(s)"
            ]
          },
          "metadata": {}
        },
        {
          "output_type": "display_data",
          "data": {
            "text/plain": [
              "<IPython.core.display.HTML object>"
            ],
            "text/html": [
              "Find logs at: <code>./wandb/run-20220929_134300-457a4zn3/logs</code>"
            ]
          },
          "metadata": {}
        }
      ]
    },
    {
      "cell_type": "markdown",
      "source": [
        "## Scaling the features\n",
        "\n",
        "This is a preprocessing step in machine learning, but why? I have seen two reasons to preform feature scaling on your dataset before training your model. \n",
        "\n",
        "- To smoothen gradient descent\n",
        "- To allow spatial dependent ML taks like SVM, K-means, K-NN, neural network or deep learning interpret all features on the same scale. This ensures that a feature with relatively higher magnitude will not govern or control the trained model.\n",
        "\n",
        "In this project, we will observe the effect of scaled and unscaled dataset on the accuracy of the model.\n",
        "\n",
        "In scikit-learn, there are three scalers, `MinMaxScaler`, `StandardScaler` and `RobustScaler`. `MinMaxScaler` shifts the values of the features to be bounded between 0 and 1. `StandardScaler` rescales the values of the features so that they demonstrate the properties of a standard gaussian distribution. `RobustScaler` applies standard scaling plus the robustness to outliers. Hence, it removes the median and scales the data according to the interquartile range.\n",
        "\n",
        "See a comparison of the three scalers on a [Boston toy dataset](https://scikit-learn.org/stable/modules/generated/sklearn.datasets.load_boston.html) shown as a box plot below.\n",
        "![MinMaxScalervsStandardScalervsRobustScaler](https://miro.medium.com/max/720/1*L2HSvzY5tSoEEyksocOpaA.png)\n",
        "\n",
        "> Credit to [Jason Chong](https://towardsdatascience.com/what-is-feature-scaling-why-is-it-important-in-machine-learning-2854ae877048)\n",
        "\n",
        "\n",
        "\n"
      ],
      "metadata": {
        "id": "YNwSpI0qX9lv"
      }
    },
    {
      "cell_type": "code",
      "source": [
        "# instantiate the StandardScaler class from scikit-learn\n",
        "scaler = StandardScaler()\n",
        "X = scaler.fit_transform(X)\n",
        "data = np.hstack((X, np.reshape(y, (-1, 1))))\n",
        "transformed_df = pd.DataFrame(data, columns=diabetes_df.columns)"
      ],
      "metadata": {
        "id": "hN9Z_4nZVQdi"
      },
      "execution_count": null,
      "outputs": []
    },
    {
      "cell_type": "code",
      "source": [
        "for i in range(len(diabetes_df.columns[:-1])):\n",
        "  label = transformed_df.columns[i]\n",
        "  plt.hist(transformed_df[transformed_df['Outcome']==1][label], color='blue', label='Diabetes', alpha=0.7, density=True, bins=15)\n",
        "  plt.hist(transformed_df[transformed_df['Outcome']==0][label], color='red', label='No diabetes', alpha=0.7, density=True, bins=15)\n",
        "  plt.title(label)\n",
        "  plt.ylabel('Probability')\n",
        "  plt.xlabel(label)\n",
        "  plt.legend()\n",
        "  plt.show()"
      ],
      "metadata": {
        "colab": {
          "base_uri": "https://localhost:8080/",
          "height": 1000
        },
        "outputId": "1bc3b5a0-f2ea-4f4e-c6f3-20d0801d5919",
        "id": "ZYcHZ4aRXww3"
      },
      "execution_count": null,
      "outputs": [
        {
          "output_type": "display_data",
          "data": {
            "text/plain": [
              "<Figure size 432x288 with 1 Axes>"
            ],
            "image/png": "[encoded data removed]"
          },
          "metadata": {
            "needs_background": "light"
          }
        },
        {
          "output_type": "display_data",
          "data": {
            "text/plain": [
              "<Figure size 432x288 with 1 Axes>"
            ],
            "image/png": "[encoded data removed]"
          },
          "metadata": {
            "needs_background": "light"
          }
        },
        {
          "output_type": "display_data",
          "data": {
            "text/plain": [
              "<Figure size 432x288 with 1 Axes>"
            ],
            "image/png": "[encoded data removed]"
          },
          "metadata": {
            "needs_background": "light"
          }
        },
        {
          "output_type": "display_data",
          "data": {
            "text/plain": [
              "<Figure size 432x288 with 1 Axes>"
            ],
            "image/png": "[encoded data removed]"
          },
          "metadata": {
            "needs_background": "light"
          }
        },
        {
          "output_type": "display_data",
          "data": {
            "text/plain": [
              "<Figure size 432x288 with 1 Axes>"
            ],
            "image/png": "[encoded data removed]"
          },
          "metadata": {
            "needs_background": "light"
          }
        },
        {
          "output_type": "display_data",
          "data": {
            "text/plain": [
              "<Figure size 432x288 with 1 Axes>"
            ],
            "image/png": "[encoded data removed]"
          },
          "metadata": {
            "needs_background": "light"
          }
        },
        {
          "output_type": "display_data",
          "data": {
            "text/plain": [
              "<Figure size 432x288 with 1 Axes>"
            ],
            "image/png": "[encoded data removed]"
          },
          "metadata": {
            "needs_background": "light"
          }
        },
        {
          "output_type": "display_data",
          "data": {
            "text/plain": [
              "<Figure size 432x288 with 1 Axes>"
            ],
            "image/png": "[encoded data removed]"
          },
          "metadata": {
            "needs_background": "light"
          }
        }
      ]
    },
    {
      "cell_type": "code",
      "source": [
        "over = RandomOverSampler()\n",
        "X, y = over.fit_resample(X, y)\n",
        "data = np.hstack((X, np.reshape(y, (-1, 1))))\n",
        "transformed_df = pd.DataFrame(data, columns=diabetes_df.columns)"
      ],
      "metadata": {
        "id": "ERavtbnVY9CC"
      },
      "execution_count": null,
      "outputs": []
    },
    {
      "cell_type": "code",
      "source": [
        "(len(transformed_df[transformed_df['Outcome']==1]), len(transformed_df[transformed_df['Outcome']==0]))"
      ],
      "metadata": {
        "colab": {
          "base_uri": "https://localhost:8080/"
        },
        "id": "qm87x5PAZsbj",
        "outputId": "212de17c-ccac-402b-f093-ee6b898bfbd8"
      },
      "execution_count": null,
      "outputs": [
        {
          "output_type": "execute_result",
          "data": {
            "text/plain": [
              "(500, 500)"
            ]
          },
          "metadata": {},
          "execution_count": 41
        }
      ]
    },
    {
      "cell_type": "code",
      "source": [
        "X_train, X_temp, y_train, y_temp = train_test_split(X, y, test_size=0.4, random_state=0)\n",
        "X_valid, X_test, y_valid, y_test = train_test_split(X_temp, y_temp, test_size=0.5, random_state=0)"
      ],
      "metadata": {
        "id": "OyiT_0XiLLmm"
      },
      "execution_count": null,
      "outputs": []
    },
    {
      "cell_type": "code",
      "source": [
        "model = build_model(X.shape[1])"
      ],
      "metadata": {
        "id": "9tqa693lMn8S"
      },
      "execution_count": null,
      "outputs": []
    },
    {
      "cell_type": "code",
      "source": [
        "model.fit(X_train, y_train, batch_size=16, epochs=20, validation_data=(X_valid, y_valid))"
      ],
      "metadata": {
        "colab": {
          "base_uri": "https://localhost:8080/"
        },
        "id": "-P_MXgx-Tgu_",
        "outputId": "a5492c12-1a25-43e0-c14c-6a13efd9cb9c"
      },
      "execution_count": null,
      "outputs": [
        {
          "output_type": "stream",
          "name": "stdout",
          "text": [
            "Epoch 1/20\n",
            "38/38 [==============================] - 1s 4ms/step - loss: 0.6929 - accuracy: 0.5533 - val_loss: 0.6856 - val_accuracy: 0.5750\n",
            "Epoch 2/20\n",
            "38/38 [==============================] - 0s 3ms/step - loss: 0.6465 - accuracy: 0.6733 - val_loss: 0.6373 - val_accuracy: 0.6450\n",
            "Epoch 3/20\n",
            "38/38 [==============================] - 0s 3ms/step - loss: 0.6081 - accuracy: 0.7283 - val_loss: 0.5900 - val_accuracy: 0.7100\n",
            "Epoch 4/20\n",
            "38/38 [==============================] - 0s 3ms/step - loss: 0.5754 - accuracy: 0.7417 - val_loss: 0.5515 - val_accuracy: 0.7050\n",
            "Epoch 5/20\n",
            "38/38 [==============================] - 0s 3ms/step - loss: 0.5492 - accuracy: 0.7433 - val_loss: 0.5195 - val_accuracy: 0.7200\n",
            "Epoch 6/20\n",
            "38/38 [==============================] - 0s 3ms/step - loss: 0.5302 - accuracy: 0.7467 - val_loss: 0.4929 - val_accuracy: 0.7500\n",
            "Epoch 7/20\n",
            "38/38 [==============================] - 0s 3ms/step - loss: 0.5164 - accuracy: 0.7450 - val_loss: 0.4743 - val_accuracy: 0.7550\n",
            "Epoch 8/20\n",
            "38/38 [==============================] - 0s 3ms/step - loss: 0.5067 - accuracy: 0.7517 - val_loss: 0.4603 - val_accuracy: 0.7700\n",
            "Epoch 9/20\n",
            "38/38 [==============================] - 0s 3ms/step - loss: 0.4989 - accuracy: 0.7600 - val_loss: 0.4503 - val_accuracy: 0.7700\n",
            "Epoch 10/20\n",
            "38/38 [==============================] - 0s 3ms/step - loss: 0.4939 - accuracy: 0.7683 - val_loss: 0.4441 - val_accuracy: 0.7650\n",
            "Epoch 11/20\n",
            "38/38 [==============================] - 0s 3ms/step - loss: 0.4897 - accuracy: 0.7700 - val_loss: 0.4395 - val_accuracy: 0.7650\n",
            "Epoch 12/20\n",
            "38/38 [==============================] - 0s 3ms/step - loss: 0.4857 - accuracy: 0.7683 - val_loss: 0.4355 - val_accuracy: 0.7600\n",
            "Epoch 13/20\n",
            "38/38 [==============================] - 0s 3ms/step - loss: 0.4830 - accuracy: 0.7767 - val_loss: 0.4309 - val_accuracy: 0.7500\n",
            "Epoch 14/20\n",
            "38/38 [==============================] - 0s 3ms/step - loss: 0.4799 - accuracy: 0.7700 - val_loss: 0.4302 - val_accuracy: 0.7600\n",
            "Epoch 15/20\n",
            "38/38 [==============================] - 0s 3ms/step - loss: 0.4784 - accuracy: 0.7783 - val_loss: 0.4273 - val_accuracy: 0.7650\n",
            "Epoch 16/20\n",
            "38/38 [==============================] - 0s 3ms/step - loss: 0.4739 - accuracy: 0.7800 - val_loss: 0.4249 - val_accuracy: 0.7550\n",
            "Epoch 17/20\n",
            "38/38 [==============================] - 0s 3ms/step - loss: 0.4728 - accuracy: 0.7750 - val_loss: 0.4265 - val_accuracy: 0.7700\n",
            "Epoch 18/20\n",
            "38/38 [==============================] - 0s 3ms/step - loss: 0.4690 - accuracy: 0.7767 - val_loss: 0.4233 - val_accuracy: 0.7600\n",
            "Epoch 19/20\n",
            "38/38 [==============================] - 0s 3ms/step - loss: 0.4677 - accuracy: 0.7800 - val_loss: 0.4223 - val_accuracy: 0.7700\n",
            "Epoch 20/20\n",
            "38/38 [==============================] - 0s 3ms/step - loss: 0.4659 - accuracy: 0.7867 - val_loss: 0.4212 - val_accuracy: 0.7600\n"
          ]
        },
        {
          "output_type": "execute_result",
          "data": {
            "text/plain": [
              "<keras.callbacks.History at 0x7f431039e310>"
            ]
          },
          "metadata": {},
          "execution_count": 48
        }
      ]
    },
    {
      "cell_type": "code",
      "source": [
        "model.evaluate(X_train, y_train)"
      ],
      "metadata": {
        "colab": {
          "base_uri": "https://localhost:8080/"
        },
        "id": "GH8gGnfAOf7t",
        "outputId": "03667eab-e61b-45d7-9b74-3d9b697c0e2b"
      },
      "execution_count": null,
      "outputs": [
        {
          "output_type": "stream",
          "name": "stdout",
          "text": [
            "19/19 [==============================] - 0s 2ms/step - loss: 0.7154 - accuracy: 0.4817\n"
          ]
        },
        {
          "output_type": "execute_result",
          "data": {
            "text/plain": [
              "[0.7153578400611877, 0.4816666543483734]"
            ]
          },
          "metadata": {},
          "execution_count": 46
        }
      ]
    },
    {
      "cell_type": "code",
      "source": [
        "model.evaluate(X_valid, y_valid)"
      ],
      "metadata": {
        "colab": {
          "base_uri": "https://localhost:8080/"
        },
        "outputId": "352b434f-ba47-48df-ee62-890c664783cc",
        "id": "YUsjbSFOTK0c"
      },
      "execution_count": null,
      "outputs": [
        {
          "output_type": "stream",
          "name": "stdout",
          "text": [
            "7/7 [==============================] - 0s 2ms/step - loss: 0.7470 - accuracy: 0.4700\n"
          ]
        },
        {
          "output_type": "execute_result",
          "data": {
            "text/plain": [
              "[0.7470095157623291, 0.4699999988079071]"
            ]
          },
          "metadata": {},
          "execution_count": 47
        }
      ]
    },
    {
      "cell_type": "code",
      "source": [],
      "metadata": {
        "id": "k_IpjHNiUd0M"
      },
      "execution_count": null,
      "outputs": []
    }
  ]
}